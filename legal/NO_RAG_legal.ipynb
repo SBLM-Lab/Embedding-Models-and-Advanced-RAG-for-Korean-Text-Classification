{
 "cells": [
  {
   "cell_type": "markdown",
   "metadata": {},
   "source": [
    "## Library"
   ]
  },
  {
   "cell_type": "code",
   "execution_count": null,
   "metadata": {},
   "outputs": [],
   "source": [
    "from dotenv import load_dotenv\n",
    "\n",
    "import os\n",
    "import torch\n",
    "import pandas as pd\n",
    "from tqdm import tqdm\n",
    "from pydantic import BaseModel, Field\n",
    "from sklearn.model_selection import train_test_split\n",
    "\n",
    "from sklearn.metrics import (\n",
    "    accuracy_score,\n",
    "    precision_score,\n",
    "    recall_score,\n",
    "    f1_score,\n",
    "    confusion_matrix,\n",
    "    classification_report,\n",
    ")\n",
    "\n",
    "from sentence_transformers import SentenceTransformer\n",
    "from langchain_openai import ChatOpenAI\n",
    "from langchain_core.prompts import ChatPromptTemplate\n",
    "from langchain.callbacks import get_openai_callback\n",
    "from langchain.vectorstores import FAISS\n",
    "\n",
    "load_dotenv()"
   ]
  },
  {
   "cell_type": "code",
   "execution_count": null,
   "metadata": {},
   "outputs": [],
   "source": [
    "seed = 1"
   ]
  },
  {
   "cell_type": "markdown",
   "metadata": {},
   "source": [
    "## Data"
   ]
  },
  {
   "cell_type": "code",
   "execution_count": null,
   "metadata": {},
   "outputs": [],
   "source": [
    "train_df = pd.read_csv(\"train_형사.csv\")\n",
    "val_df = pd.read_csv(\"validation_형사.csv\")\n",
    "test_df = pd.read_csv(\"test_형사.csv\")\n",
    "\n",
    "combined_df = pd.concat([train_df, val_df, test_df], ignore_index=True)\n",
    "\n",
    "datasets = {}\n",
    "\n",
    "test_size = 1000\n",
    "train_data, test_data = train_test_split(\n",
    "    combined_df,\n",
    "    test_size=test_size,\n",
    "    stratify=combined_df[\"answer\"],\n",
    "    random_state=seed,\n",
    ")\n",
    "\n",
    "val_size = 100\n",
    "train_data, validation_data = train_test_split(\n",
    "    train_data,\n",
    "    test_size=val_size,\n",
    "    stratify=train_data[\"answer\"],\n",
    "    random_state=seed,\n",
    ")\n",
    "\n",
    "datasets[seed] = {\n",
    "    \"train_data\": train_data,\n",
    "    \"test_data\": test_data,\n",
    "    \"validation_data\": validation_data,\n",
    "}\n",
    "\n",
    "train = datasets[seed][\"train_data\"]\n",
    "validation = datasets[seed][\"validation_data\"]\n",
    "test = datasets[seed][\"test_data\"]"
   ]
  },
  {
   "cell_type": "markdown",
   "metadata": {},
   "source": [
    "## Classifier"
   ]
  },
  {
   "cell_type": "code",
   "execution_count": null,
   "metadata": {},
   "outputs": [],
   "source": [
    "class DocumentsClassification(BaseModel):\n",
    "    prediction: str = Field(description=\"Classification of the document: True, False\")\n",
    "\n",
    "llm = ChatOpenAI(model=\"gpt-3.5-turbo\", temperature=0)\n",
    "structured_llm_grader = llm.with_structured_output(DocumentsClassification)"
   ]
  },
  {
   "cell_type": "markdown",
   "metadata": {},
   "source": [
    "## Prompt & Chain"
   ]
  },
  {
   "cell_type": "code",
   "execution_count": null,
   "metadata": {},
   "outputs": [],
   "source": [
    "system_message = \"\"\"Classify the query into one of : True / False\\n\n",
    "                    \"Return in JSON: {{\\\"prediction\\\": \\\"category\\\"}}\n",
    "\"\"\"\n",
    "classification_prompt = ChatPromptTemplate.from_messages(\n",
    "    [\n",
    "        (\"system\", system_message),\n",
    "        (\"human\", \"Input document: {question}\"),\n",
    "    ]\n",
    ")\n",
    "\n",
    "classification_grader = classification_prompt | structured_llm_grader"
   ]
  },
  {
   "cell_type": "markdown",
   "metadata": {},
   "source": [
    "## Prediction"
   ]
  },
  {
   "cell_type": "code",
   "execution_count": null,
   "metadata": {},
   "outputs": [],
   "source": [
    "results = []\n",
    "    \n",
    "for idx, row in tqdm(\n",
    "    test.iterrows(), total=len(test), desc=\"Processing\"\n",
    "):\n",
    "    question = row[\"question\"]\n",
    "    answer = row[\"answer\"]\n",
    "\n",
    "    prediction = classification_grader.invoke({\"question\": question})\n",
    "\n",
    "    results.append(\n",
    "        {\n",
    "            \"question\": question,\n",
    "            \"answer\": answer,\n",
    "            \"prediction\": prediction.prediction,\n",
    "        }\n",
    "    )\n",
    "\n",
    "df_results = pd.DataFrame(results)"
   ]
  },
  {
   "cell_type": "code",
   "execution_count": null,
   "metadata": {},
   "outputs": [],
   "source": [
    "y_true = df_results[\"answer\"].map({True: 1, False: 0})\n",
    "y_pred = df_results[\"prediction\"].map({\"True\": 1, \"False\": 0})\n",
    "\n",
    "accuracy = accuracy_score(y_true, y_pred)\n",
    "precision = precision_score(y_true, y_pred)\n",
    "recall = recall_score(y_true, y_pred)\n",
    "f1_final = f1_score(y_true, y_pred)\n",
    "f1_macro = f1_score(y_true, y_pred, average=\"macro\")\n",
    "f1_weighted = f1_score(y_true, y_pred, average=\"weighted\")\n",
    "\n",
    "conf_matrix = confusion_matrix(y_true, y_pred)\n",
    "\n",
    "print(\"\\n===== Classification Performance Results =====\")\n",
    "print(f\"Accuracy: {accuracy:.4f}\")\n",
    "print(f\"Precision: {precision:.4f}\")\n",
    "print(f\"Recall: {recall:.4f}\")\n",
    "print(f\"F1 Score: {f1_final:.4f}\")\n",
    "print(f\"F1-score (Macro): {f1_macro:.4f}\")\n",
    "print(f\"F1-score (Weighted): {f1_weighted:.4f}\")\n",
    "\n",
    "print(\"\\n===== Classification Confusion Matrix =====\")\n",
    "print(conf_matrix)\n",
    "\n",
    "print(\"\\n===== Detailed Classification Report =====\")\n",
    "print(classification_report(y_true, y_pred))"
   ]
  }
 ],
 "metadata": {
  "kernelspec": {
   "display_name": "base",
   "language": "python",
   "name": "python3"
  },
  "language_info": {
   "codemirror_mode": {
    "name": "ipython",
    "version": 3
   },
   "file_extension": ".py",
   "mimetype": "text/x-python",
   "name": "python",
   "nbconvert_exporter": "python",
   "pygments_lexer": "ipython3",
   "version": "3.11.7"
  }
 },
 "nbformat": 4,
 "nbformat_minor": 2
}
