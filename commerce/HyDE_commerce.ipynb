{
 "cells": [
  {
   "cell_type": "markdown",
   "metadata": {},
   "source": [
    "## Library"
   ]
  },
  {
   "cell_type": "code",
   "execution_count": null,
   "metadata": {},
   "outputs": [],
   "source": [
    "import os\n",
    "import warnings\n",
    "\n",
    "import pandas as pd\n",
    "import torch\n",
    "from dotenv import load_dotenv\n",
    "from tqdm import tqdm\n",
    "from pydantic import BaseModel, Field\n",
    "\n",
    "from sklearn.metrics import (\n",
    "    accuracy_score,\n",
    "    precision_score,\n",
    "    recall_score,\n",
    "    f1_score,\n",
    "    confusion_matrix,\n",
    "    classification_report,\n",
    ")\n",
    "from sklearn.model_selection import train_test_split\n",
    "\n",
    "from langchain_openai import ChatOpenAI\n",
    "from langchain.embeddings import OpenAIEmbeddings\n",
    "from langchain.vectorstores import FAISS\n",
    "from langchain.schema import Document\n",
    "from langchain.prompts import PromptTemplate\n",
    "from langchain_core.prompts import ChatPromptTemplate\n",
    "from langchain.chains import LLMChain\n",
    "from langchain.retrievers import BM25Retriever, EnsembleRetriever\n",
    "from langchain.callbacks import get_openai_callback\n",
    "\n",
    "from sentence_transformers import SentenceTransformer\n",
    "\n",
    "warnings.filterwarnings(\"ignore\")\n",
    "\n",
    "load_dotenv()"
   ]
  },
  {
   "cell_type": "code",
   "execution_count": null,
   "metadata": {},
   "outputs": [],
   "source": [
    "seed = 1\n",
    "num_k = 3"
   ]
  },
  {
   "cell_type": "markdown",
   "metadata": {},
   "source": [
    "## Data"
   ]
  },
  {
   "cell_type": "code",
   "execution_count": null,
   "metadata": {},
   "outputs": [],
   "source": [
    "train = pd.read_csv(f\"../seed{seed}/seed{seed}_train_쇼핑.csv\")\n",
    "validation = pd.read_csv(f\"../seed{seed}/seed{seed}_validation_쇼핑.csv\")\n",
    "test = pd.read_csv(f\"../seed{seed}/seed{seed}_test_쇼핑.csv\")"
   ]
  },
  {
   "cell_type": "markdown",
   "metadata": {},
   "source": [
    "## Vectorstore"
   ]
  },
  {
   "cell_type": "code",
   "execution_count": null,
   "metadata": {},
   "outputs": [],
   "source": [
    "device = torch.device(\"cpu\")\n",
    "\n",
    "\n",
    "class KUREEmbedding:\n",
    "    def __init__(self, model_name=\"nlpai-lab/KURE-v1\"):\n",
    "        self.model = SentenceTransformer(model_name, trust_remote_code=True).to(device)\n",
    "\n",
    "    def embed_documents(self, texts):\n",
    "        embeddings = self.model.encode(texts, convert_to_numpy=True)\n",
    "        return embeddings\n",
    "\n",
    "    def embed_query(self, text):\n",
    "        return self.embed_documents([text])[0]\n",
    "\n",
    "\n",
    "class KoE5Embedding(KUREEmbedding):\n",
    "    def __init__(self, model_name=\"nlpai-lab/KoE5\"):\n",
    "        super().__init__(model_name)"
   ]
  },
  {
   "cell_type": "code",
   "execution_count": null,
   "metadata": {},
   "outputs": [],
   "source": [
    "vectorstore_path = f\"../seed{seed}/faiss_index_seed{seed}_koe5\"\n",
    "if os.path.exists(vectorstore_path):\n",
    "    embeddings = KoE5Embedding()\n",
    "\n",
    "    vectorstore = FAISS.load_local(\n",
    "        vectorstore_path,\n",
    "        embeddings.embed_query,\n",
    "        allow_dangerous_deserialization=True,\n",
    "    )\n",
    "\n",
    "    retriever = vectorstore.as_retriever(search_kwargs={\"k\": num_k})"
   ]
  },
  {
   "cell_type": "markdown",
   "metadata": {},
   "source": [
    "## Classifier"
   ]
  },
  {
   "cell_type": "code",
   "execution_count": null,
   "metadata": {},
   "outputs": [],
   "source": [
    "class CategoryClassification(BaseModel):\n",
    "    prediction: str = Field(description=\"Predicted category of the user query\")\n",
    "\n",
    "\n",
    "llm = ChatOpenAI(model=\"gpt-3.5-turbo\", temperature=0)\n",
    "structured_llm_grader = llm.with_structured_output(CategoryClassification)"
   ]
  },
  {
   "cell_type": "markdown",
   "metadata": {},
   "source": [
    "## Prompt & Chain "
   ]
  },
  {
   "cell_type": "code",
   "execution_count": null,
   "metadata": {},
   "outputs": [],
   "source": [
    "# system prompt\n",
    "classification_prompt = ChatPromptTemplate.from_messages(\n",
    "    [\n",
    "        (\n",
    "            \"system\",\n",
    "            \"Classify the query into one of: 제품, 배송, 교환/반품/환불, 행사, AS, 포장, 구매, 웹사이트.\\n\"\n",
    "            \"Return only one category exactly as listed above. No other categories or explanations.\\n\"\n",
    "            'Return in JSON: {{\"prediction\": \"category\"}}',\n",
    "        ),\n",
    "        (\"human\", \"Query: {query}\\nRelevant cases: {similar_cases}\"),\n",
    "    ]\n",
    ")\n",
    "\n",
    "# HyDE prompt\n",
    "hyde_prompt = ChatPromptTemplate.from_messages(\n",
    "    [\n",
    "        (\n",
    "            \"system\",\n",
    "            \"Generate a hypothetical passage that is relevant to the given query. \\n\"\n",
    "            \"Limit the passage to a maximum of 200 characters.\",\n",
    "        ),\n",
    "        (\"human\", \"User query: {query}\"),\n",
    "    ]\n",
    ")\n",
    "\n",
    "# chain\n",
    "hyde_chain = hyde_prompt | llm\n",
    "classification_grader = classification_prompt | structured_llm_grader"
   ]
  },
  {
   "cell_type": "markdown",
   "metadata": {},
   "source": [
    "## HyDE "
   ]
  },
  {
   "cell_type": "code",
   "execution_count": null,
   "metadata": {},
   "outputs": [],
   "source": [
    "def predict_label_with_hyde_rag(user_query: str):\n",
    "    hyde_response = hyde_chain.invoke({\"query\": user_query}).content.strip()\n",
    "    similar_docs = retriever.get_relevant_documents(hyde_response.strip())\n",
    "    retrieved_texts = (\n",
    "        \"\\n\".join([doc.page_content for doc in similar_docs])\n",
    "        if similar_docs\n",
    "        else \"No similar cases found.\"\n",
    "    )\n",
    "\n",
    "    prediction = classification_grader.invoke(\n",
    "        {\"query\": user_query, \"similar_cases\": retrieved_texts}\n",
    "    )\n",
    "\n",
    "    return prediction"
   ]
  },
  {
   "cell_type": "markdown",
   "metadata": {},
   "source": [
    "## Prediction"
   ]
  },
  {
   "cell_type": "code",
   "execution_count": null,
   "metadata": {},
   "outputs": [],
   "source": [
    "results = []\n",
    "\n",
    "for idx, row in tqdm(test.iterrows(), total=len(test), desc=\"Processing\"):\n",
    "    question = row[\"text\"]\n",
    "    actual_label = row[\"category\"]\n",
    "    prediction = predict_label_with_hyde_rag(question)\n",
    "\n",
    "    results.append(\n",
    "        {\n",
    "            \"question\": question,\n",
    "            \"actual_label\": actual_label,\n",
    "            \"prediction_label\": prediction.prediction,\n",
    "        }\n",
    "    )\n",
    "\n",
    "df_results = pd.DataFrame(results)"
   ]
  },
  {
   "cell_type": "code",
   "execution_count": null,
   "metadata": {},
   "outputs": [],
   "source": [
    "# Post-processing\n",
    "df_results[\"prediction_label\"] = df_results[\"prediction_label\"].replace(\n",
    "    {\"교환\": \"교환/반품/환불\", \"반품\": \"교환/반품/환불\", \"환불\": \"교환/반품/환불\"}\n",
    ")"
   ]
  },
  {
   "cell_type": "markdown",
   "metadata": {},
   "source": [
    "## Evaluation"
   ]
  },
  {
   "cell_type": "code",
   "execution_count": null,
   "metadata": {},
   "outputs": [],
   "source": [
    "y_true = df_results[\"actual_label\"]\n",
    "y_pred = df_results[\"prediction_label\"]\n",
    "\n",
    "accuracy = accuracy_score(y_true, y_pred)\n",
    "precision = precision_score(y_true, y_pred, average=\"macro\")\n",
    "recall = recall_score(y_true, y_pred, average=\"macro\")\n",
    "f1_macro = f1_score(y_true, y_pred, average=\"macro\")\n",
    "f1_weighted = f1_score(y_true, y_pred, average=\"weighted\")\n",
    "\n",
    "conf_matrix = confusion_matrix(y_true, y_pred)\n",
    "\n",
    "print(\"\\n===== Classification Performance Results =====\")\n",
    "print(f\"Accuracy: {accuracy:.4f}\")\n",
    "print(f\"Precision (Macro): {precision:.4f}\")\n",
    "print(f\"Recall (Macro): {recall:.4f}\")\n",
    "print(f\"F1-score (Macro): {f1_macro:.4f}\")\n",
    "print(f\"F1-score (Weighted): {f1_weighted:.4f}\")\n",
    "\n",
    "print(\"\\n===== Classification Confusion Matrix =====\")\n",
    "print(conf_matrix)\n",
    "\n",
    "print(\"\\n===== Detailed Classification Report =====\")\n",
    "print(classification_report(y_true, y_pred))"
   ]
  }
 ],
 "metadata": {
  "kernelspec": {
   "display_name": "base",
   "language": "python",
   "name": "python3"
  },
  "language_info": {
   "codemirror_mode": {
    "name": "ipython",
    "version": 3
   },
   "file_extension": ".py",
   "mimetype": "text/x-python",
   "name": "python",
   "nbconvert_exporter": "python",
   "pygments_lexer": "ipython3",
   "version": "3.12.7"
  }
 },
 "nbformat": 4,
 "nbformat_minor": 2
}
