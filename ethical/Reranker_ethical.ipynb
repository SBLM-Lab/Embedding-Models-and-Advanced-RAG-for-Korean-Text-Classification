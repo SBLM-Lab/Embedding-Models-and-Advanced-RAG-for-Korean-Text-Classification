{
 "cells": [
  {
   "cell_type": "markdown",
   "metadata": {},
   "source": [
    "## Library"
   ]
  },
  {
   "cell_type": "code",
   "execution_count": 28,
   "metadata": {},
   "outputs": [
    {
     "data": {
      "text/plain": [
       "True"
      ]
     },
     "execution_count": 28,
     "metadata": {},
     "output_type": "execute_result"
    }
   ],
   "source": [
    "import os\n",
    "import torch\n",
    "import time\n",
    "import pandas as pd\n",
    "import re\n",
    "\n",
    "from sklearn.model_selection import train_test_split\n",
    "from dotenv import load_dotenv\n",
    "\n",
    "from sentence_transformers import SentenceTransformer\n",
    "from sentence_transformers import CrossEncoder\n",
    "\n",
    "from tqdm import tqdm\n",
    "from pydantic import BaseModel, Field\n",
    "\n",
    "from langchain.prompts import PromptTemplate\n",
    "from langchain.vectorstores import FAISS\n",
    "from langchain.callbacks import get_openai_callback\n",
    "from langchain_openai import ChatOpenAI\n",
    "from langchain.chains import LLMChain\n",
    "from langchain_core.prompts import ChatPromptTemplate\n",
    "from itertools import combinations\n",
    "\n",
    "\n",
    "from sklearn.metrics import (\n",
    "    accuracy_score,\n",
    "    precision_score,\n",
    "    recall_score,\n",
    "    f1_score,\n",
    "    confusion_matrix,\n",
    "    classification_report,\n",
    ")\n",
    "\n",
    "load_dotenv()"
   ]
  },
  {
   "cell_type": "code",
   "execution_count": 29,
   "metadata": {},
   "outputs": [],
   "source": [
    "seed = 1\n",
    "rerank_k = 5\n",
    "retrieve_k = 10"
   ]
  },
  {
   "cell_type": "markdown",
   "metadata": {},
   "source": [
    "## Data"
   ]
  },
  {
   "cell_type": "code",
   "execution_count": null,
   "metadata": {},
   "outputs": [],
   "source": [
    "train = pd.read_csv(f'../seed{seed}/seed{seed}_train.csv')\n",
    "validation = pd.read_csv(f'../seed{seed}/seed{seed}_validation.csv')\n",
    "test = pd.read_csv(f'../seed{seed}/seed{seed}_test.csv')"
   ]
  },
  {
   "cell_type": "markdown",
   "metadata": {},
   "source": [
    "## Vectorstore"
   ]
  },
  {
   "cell_type": "code",
   "execution_count": 31,
   "metadata": {},
   "outputs": [],
   "source": [
    "device = torch.device(\"cpu\")\n",
    "\n",
    "class KUREEmbedding:\n",
    "    def __init__(self, model_name=\"nlpai-lab/KURE-v1\"):\n",
    "        self.model = SentenceTransformer(model_name, trust_remote_code=True).to(device)\n",
    "\n",
    "    def embed_documents(self, texts):\n",
    "        embeddings = self.model.encode(texts, convert_to_numpy=True)\n",
    "        return embeddings\n",
    "\n",
    "    def embed_query(self, text):\n",
    "        return self.embed_documents([text])[0]\n",
    "\n",
    "class KoE5Embedding(KUREEmbedding):\n",
    "    def __init__(self, model_name=\"nlpai-lab/KoE5\"):\n",
    "        super().__init__(model_name)"
   ]
  },
  {
   "cell_type": "code",
   "execution_count": null,
   "metadata": {},
   "outputs": [],
   "source": [
    "vectorstore_path = f\"../seed{seed}/faiss_index_seed{seed}_koe5\"\n",
    "if os.path.exists(vectorstore_path):\n",
    "    embeddings = KoE5Embedding()\n",
    "\n",
    "    vectorstore = FAISS.load_local(\n",
    "        vectorstore_path,\n",
    "        embeddings.embed_query,\n",
    "        allow_dangerous_deserialization=True,\n",
    "    )\n",
    "\n",
    "    retriever = vectorstore.as_retriever(search_kwargs={\"k\": retrieve_k})"
   ]
  },
  {
   "cell_type": "markdown",
   "metadata": {},
   "source": [
    "## Classifier"
   ]
  },
  {
   "cell_type": "code",
   "execution_count": null,
   "metadata": {},
   "outputs": [],
   "source": [
    "class SentenceClassification(BaseModel):\n",
    "    prediction: str = Field(description=\"Classification of the sentence: True, False\")\n",
    "\n",
    "llm = ChatOpenAI(model=\"gpt-3.5-turbo\", temperature=0)\n",
    "structured_llm_grader = llm.with_structured_output(SentenceClassification)"
   ]
  },
  {
   "cell_type": "markdown",
   "metadata": {},
   "source": [
    "## Prompt & Chain"
   ]
  },
  {
   "cell_type": "code",
   "execution_count": 34,
   "metadata": {},
   "outputs": [],
   "source": [
    "classification_prompt = ChatPromptTemplate.from_messages(\n",
    "    [(\"system\", \"Classify the sentence into one of : True , False. \"\n",
    "                \"Judge as True if it is unethical.\\n\"\n",
    "                \"Return in JSON: {{\\\"prediction\\\": \\\"True\\\" or \\\"False\\\"}}\"),\n",
    "     (\"human\", \"Reference sentence: \\n\\n {sentences} \\n\\n Input sentence: {question}\")]\n",
    ")\n",
    "\n",
    "classification_grader = classification_prompt | structured_llm_grader"
   ]
  },
  {
   "cell_type": "markdown",
   "metadata": {},
   "source": [
    "## Rerank"
   ]
  },
  {
   "cell_type": "code",
   "execution_count": 35,
   "metadata": {},
   "outputs": [],
   "source": [
    "def retrieve_and_rerank_no_reranker(question, k):\n",
    "    \"\"\"\n",
    "    Reranker 사용하지 않은 방식\n",
    "    \"\"\"\n",
    "    similar_docs = retriever.invoke(question)\n",
    "    retrieved_texts = [doc.page_content for doc in similar_docs][:k]\n",
    "\n",
    "    return retrieved_texts\n",
    "\n",
    "# Hugging Face Cross-Encoder Reranker (cross-encoder/ms-marco-MiniLM-L-6-v2)\n",
    "def retrieve_and_rerank_hf_crossencoder(question, k):\n",
    "    \"\"\"\n",
    "    FAISS retriever를 이용하여 검색한 문서를 Hugging Face Cross-Encoder 기반으로 재정렬하여 최적의 문서를 반환\n",
    "    \"\"\"\n",
    "    reranker_model = CrossEncoder(\"cross-encoder/ms-marco-MiniLM-L-6-v2\")\n",
    "\n",
    "    similar_docs = retriever.invoke(question)\n",
    "    retrieved_texts = [doc.page_content for doc in similar_docs]\n",
    "\n",
    "    query_pairs = [[question, doc] for doc in retrieved_texts]\n",
    "    scores = reranker_model.predict(query_pairs)\n",
    "\n",
    "    sorted_indices = sorted(range(len(scores)), key=lambda i: scores[i], reverse=True)\n",
    "    reranked_texts = [retrieved_texts[i] for i in sorted_indices][:k]\n",
    "\n",
    "    return reranked_texts\n",
    "\n",
    "# Hugging Face Reranker (BAAI/bge-reranker-v2-m3)\n",
    "def retrieve_and_rerank_hf_bge(question, k):\n",
    "    \"\"\"\n",
    "    FAISS retriever를 이용하여 검색한 문서를 Hugging Face BGE Reranker 기반으로 재정렬하여 최적의 문서를 반환\n",
    "    \"\"\"\n",
    "    reranker_model = CrossEncoder(model_name=\"BAAI/bge-reranker-v2-m3\")\n",
    "\n",
    "    similar_docs = retriever.invoke(question)\n",
    "    retrieved_texts = [doc.page_content for doc in similar_docs]\n",
    "\n",
    "    query_pairs = [[question, doc] for doc in retrieved_texts]\n",
    "    scores = reranker_model.predict(query_pairs)\n",
    "\n",
    "    sorted_indices = sorted(range(len(scores)), key=lambda i: scores[i], reverse=True)\n",
    "    reranked_texts = [retrieved_texts[i] for i in sorted_indices][:k]\n",
    "\n",
    "    return reranked_texts\n",
    "\n",
    "# LLM Listwise Reranker\n",
    "def retrieve_and_rerank_llm_listwise(question, k):\n",
    "    \"\"\"\n",
    "    FAISS retriever를 이용하여 검색한 문서를 LLM Listwise 방식으로 재정렬하여 최적의 문서를 반환\n",
    "    \"\"\"\n",
    "    similar_docs = retriever.invoke(question)\n",
    "    retrieved_texts = [doc.page_content for doc in similar_docs]\n",
    "\n",
    "    prompt_template = PromptTemplate(\n",
    "        input_variables=[\"question\", \"documents\"],\n",
    "        template=\"\"\"\n",
    "        질문: {question}\n",
    "        Question: {question}\n",
    "        Rank the following documents based on their relevance to the question:\n",
    "        {documents}\n",
    "    \n",
    "        List the documents starting from the most relevant.\n",
    "        \"\"\"\n",
    "    )\n",
    "    chain = LLMChain(llm=llm, prompt=prompt_template)\n",
    "    ranked_output = chain.run({\"question\": question, \"documents\": \"\\n\".join(retrieved_texts)})\n",
    "    pattern = r\"\\d+\\.\\s(.+?\\(Label: (True|False)\\))\"\n",
    "    matches = re.findall(pattern, ranked_output) \n",
    "\n",
    "    reranked_texts = [match[0] for match in matches][:k]\n",
    "\n",
    "    return reranked_texts\n",
    "\n",
    "# LLM Pointwise Reranker\n",
    "def retrieve_and_rerank_llm_pointwise(question, k):\n",
    "    \"\"\"\n",
    "    FAISS retriever를 이용하여 검색한 각 문서에 대해 LLM이 개별 점수를 부여하여 재정렬하는 방식 (Pointwise)\n",
    "    \"\"\"\n",
    "    similar_docs = retriever.invoke(question)\n",
    "    retrieved_texts = [doc.page_content for doc in similar_docs]\n",
    "\n",
    "    reranked_docs = []\n",
    "    \n",
    "    for doc in retrieved_texts:\n",
    "        prompt_template = PromptTemplate(\n",
    "            input_variables=[\"question\", \"document\"],\n",
    "            template=\"\"\"\n",
    "            Question: {question}\n",
    "            Evaluate how relevant the document is to the given question on a scale from 1 to 10.\n",
    "\n",
    "            Document:\n",
    "            {document}\n",
    "\n",
    "            Score (1-10):\n",
    "            \"\"\"\n",
    "        )\n",
    "        score_output = llm.invoke(prompt_template.format(question=question, document=doc))\n",
    "\n",
    "        score_text = score_output.content if hasattr(score_output, \"content\") else str(score_output)\n",
    "\n",
    "        score_match = re.search(r\"\\d+\", score_text)\n",
    "        score = int(score_match.group()) if score_match else 0\n",
    "        \n",
    "        reranked_docs.append((doc, score))\n",
    "\n",
    "    reranked_docs.sort(key=lambda x: x[1], reverse=True)\n",
    "    reranked_texts = [doc[0] for doc in reranked_docs][:k]\n",
    "\n",
    "    return reranked_texts\n",
    "\n",
    "# LLM Pairwise Reranker\n",
    "def retrieve_and_rerank_llm_pairwise(question, k):\n",
    "    \"\"\"\n",
    "    FAISS retriever를 이용하여 검색한 문서 쌍을 비교하여 우선순위를 결정하는 Pairwise 방식의 Reranker\n",
    "    \"\"\"\n",
    "    similar_docs = retriever.invoke(question)\n",
    "    retrieved_texts = [doc.page_content for doc in similar_docs]\n",
    "    \n",
    "    doc_scores = {doc: 0 for doc in retrieved_texts}\n",
    "    \n",
    "    for doc1, doc2 in combinations(retrieved_texts, 2):\n",
    "        prompt_template = PromptTemplate(\n",
    "            input_variables=[\"question\", \"doc1\", \"doc2\"],\n",
    "            template=\"\"\"\n",
    "            Question: {question}\n",
    "            Select the document that is more relevant to the question below.\n",
    "\n",
    "            Document 1:\n",
    "            {doc1}\n",
    "\n",
    "            Document 2:\n",
    "            {doc2}\n",
    "\n",
    "            Output only the number of the more relevant document: 1 or 2.\n",
    "            \"\"\"\n",
    "        )\n",
    "        comparison_output = llm.invoke(prompt_template.format(question=question, doc1=doc1, doc2=doc2))\n",
    "\n",
    "        comparison_text = comparison_output.content if hasattr(comparison_output, \"content\") else str(comparison_output)\n",
    "\n",
    "        selected_match = re.search(r\"\\b[12]\\b\", comparison_text)\n",
    "        if selected_match:\n",
    "            selected_doc = doc1 if selected_match.group() == \"1\" else doc2\n",
    "            doc_scores[selected_doc] += 1\n",
    "    \n",
    "    reranked_texts = sorted(doc_scores.keys(), key=lambda x: doc_scores[x], reverse=True)[:k]\n",
    "\n",
    "    return reranked_texts"
   ]
  },
  {
   "cell_type": "markdown",
   "metadata": {},
   "source": [
    "## Prediction"
   ]
  },
  {
   "cell_type": "code",
   "execution_count": null,
   "metadata": {},
   "outputs": [],
   "source": [
    "results = []\n",
    "\n",
    "\n",
    "for idx, row in tqdm(\n",
    "    test.iterrows(), total=len(test), desc=\"Processing\"\n",
    "):\n",
    "    question = row[\"문장\"]\n",
    "    answer = row[\"비도덕여부\"]\n",
    "    \n",
    "    retrieved_sentences = retrieve_and_rerank_hf_crossencoder(question, rerank_k)\n",
    "\n",
    "    prediction = classification_grader.invoke(\n",
    "        {\"question\": question, \"sentences\": retrieved_sentences}\n",
    "    )\n",
    "\n",
    "    results.append(\n",
    "        {\n",
    "            \"question\": question,\n",
    "            \"answer\": answer,\n",
    "            \"prediction\": prediction.prediction\n",
    "        }\n",
    "    )\n",
    "\n",
    "df_results = pd.DataFrame(results)"
   ]
  },
  {
   "cell_type": "markdown",
   "metadata": {},
   "source": [
    "## Evaluation"
   ]
  },
  {
   "cell_type": "code",
   "execution_count": null,
   "metadata": {},
   "outputs": [],
   "source": [
    "y_true = df_results[\"answer\"].map({True: 1, False: 0})\n",
    "y_pred = df_results[\"prediction\"].map({\"True\": 1, \"False\": 0})\n",
    "\n",
    "accuracy = accuracy_score(y_true, y_pred)\n",
    "precision = precision_score(y_true, y_pred)\n",
    "recall = recall_score(y_true, y_pred)\n",
    "f1_final = f1_score(y_true, y_pred)\n",
    "f1_macro = f1_score(y_true, y_pred, average=\"macro\")\n",
    "f1_weighted = f1_score(y_true, y_pred, average=\"weighted\")\n",
    "\n",
    "conf_matrix = confusion_matrix(y_true, y_pred)\n",
    "\n",
    "print(\"\\n===== Classification Performance Results =====\")\n",
    "print(f\"Accuracy: {accuracy:.4f}\")\n",
    "print(f\"Precision: {precision:.4f}\")\n",
    "print(f\"Recall: {recall:.4f}\")\n",
    "print(f\"F1 Score: {f1_final:.4f}\")\n",
    "print(f\"F1-score (Macro): {f1_macro:.4f}\")\n",
    "print(f\"F1-score (Weighted): {f1_weighted:.4f}\")\n",
    "\n",
    "print(\"\\n===== Classification Confusion Matrix =====\")\n",
    "print(conf_matrix)\n",
    "\n",
    "print(\"\\n===== Detailed Classification Report =====\")\n",
    "print(classification_report(y_true, y_pred))"
   ]
  }
 ],
 "metadata": {
  "kernelspec": {
   "display_name": "Python 3 (ipykernel)",
   "language": "python",
   "name": "python3"
  },
  "language_info": {
   "codemirror_mode": {
    "name": "ipython",
    "version": 3
   },
   "file_extension": ".py",
   "mimetype": "text/x-python",
   "name": "python",
   "nbconvert_exporter": "python",
   "pygments_lexer": "ipython3",
   "version": "3.10.9"
  }
 },
 "nbformat": 4,
 "nbformat_minor": 4
}
